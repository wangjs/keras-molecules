{
 "cells": [
  {
   "cell_type": "markdown",
   "metadata": {},
   "source": [
    "### Pre-process HMDB data"
   ]
  },
  {
   "cell_type": "code",
   "execution_count": 1,
   "metadata": {
    "collapsed": false
   },
   "outputs": [],
   "source": [
    "import argparse\n",
    "import pandas as pd\n",
    "import h5py\n",
    "import numpy as np\n",
    "from sklearn.model_selection import train_test_split"
   ]
  },
  {
   "cell_type": "code",
   "execution_count": 2,
   "metadata": {
    "collapsed": true
   },
   "outputs": [],
   "source": [
    "import sys\n",
    "sys.path.append('..')\n",
    "\n",
    "from molecules.utils import one_hot_array, one_hot_index\n",
    "\n",
    "MAX_NUM_ROWS = 500000\n",
    "SMILES_COL_NAME = 'structure'"
   ]
  },
  {
   "cell_type": "markdown",
   "metadata": {},
   "source": [
    "The following are the command-line parameters of the **preprocess.py** script"
   ]
  },
  {
   "cell_type": "code",
   "execution_count": 3,
   "metadata": {
    "collapsed": true
   },
   "outputs": [],
   "source": [
    "# infile = '../data/smiles_50k.h5'\n",
    "outfile = '../data/processed.h5'\n",
    "smiles_column = SMILES_COL_NAME\n",
    "length = MAX_NUM_ROWS"
   ]
  },
  {
   "cell_type": "markdown",
   "metadata": {},
   "source": [
    "Load HMDB data"
   ]
  },
  {
   "cell_type": "code",
   "execution_count": 4,
   "metadata": {
    "collapsed": true
   },
   "outputs": [],
   "source": [
    "import numpy as np\n",
    "import pylab as plt\n",
    "import xmltodict\n",
    "import traceback"
   ]
  },
  {
   "cell_type": "code",
   "execution_count": 5,
   "metadata": {
    "collapsed": true
   },
   "outputs": [],
   "source": [
    "class Metabolite(object):\n",
    "\n",
    "    def __init__(self, name, formula, monoisotopic_mass, description, identifiers, taxonomy):\n",
    "        self.name = name\n",
    "        self.formula = formula\n",
    "        self.monoisotopic_mass = monoisotopic_mass\n",
    "        self.identifiers = identifiers\n",
    "        self.taxonomy = taxonomy\n",
    "        self.description = description\n",
    "        self.class_id = -1\n",
    "\n",
    "    def __str__(self):\n",
    "        return '%s (%s)' % (self.name, self.formula)"
   ]
  },
  {
   "cell_type": "code",
   "execution_count": null,
   "metadata": {
    "collapsed": true
   },
   "outputs": [],
   "source": [
    "# data = xmltodict.parse(open('/Users/joewandy/Dropbox/Analysis/neural_net/hmdb/hmdb_metabolites.xml'))"
   ]
  },
  {
   "cell_type": "code",
   "execution_count": null,
   "metadata": {
    "collapsed": false
   },
   "outputs": [],
   "source": [
    "# compounds = []\n",
    "# for node in data['hmdb']['metabolite']:\n",
    "    \n",
    "#     name = node['name']\n",
    "#     formula = node['chemical_formula']\n",
    "#     monoisotopic_mass = node['monisotopic_molecular_weight']\n",
    "\n",
    "#     cas = node['cas_registry_number']\n",
    "#     inchi = node['inchi']\n",
    "#     inchikey = node['inchikey']\n",
    "#     smiles = node['smiles']\n",
    "#     identifiers = {\n",
    "#         'cas': cas,\n",
    "#         'inchi': inchi,\n",
    "#         'inchikey': inchikey,\n",
    "#         'smiles': smiles\n",
    "#     }\n",
    "    \n",
    "#     tree = {}\n",
    "#     description = None\n",
    "#     if 'taxonomy' in node:\n",
    "        \n",
    "#         taxonomy = dict(node['taxonomy'])\n",
    "\n",
    "#         description = taxonomy['description']        \n",
    "#         direct_parent = taxonomy['direct_parent']\n",
    "#         kingdom = taxonomy['kingdom']\n",
    "#         super_class = taxonomy['super_class']\n",
    "#         cclass = taxonomy['class']\n",
    "#         sub_class = taxonomy['sub_class']\n",
    "#         molecular_framework = taxonomy['molecular_framework']\n",
    "#         tree = {\n",
    "#             'kingdom': kingdom,\n",
    "#             'super_class': super_class,\n",
    "#             'class': cclass,\n",
    "#             'sub_class': sub_class,\n",
    "#             'molecular_framework': molecular_framework\n",
    "#         }\n",
    "\n",
    "#     if identifiers['smiles'] == None:\n",
    "#         continue\n",
    "#     else:\n",
    "#         identifiers['smiles'] = identifiers['smiles'].encode('ascii', 'ignore')\n",
    "        \n",
    "#     compound = Metabolite(name, formula, monoisotopic_mass, description, identifiers, tree)\n",
    "#     compounds.append(compound)"
   ]
  },
  {
   "cell_type": "code",
   "execution_count": 6,
   "metadata": {
    "collapsed": true
   },
   "outputs": [],
   "source": [
    "import cPickle\n",
    "\n",
    "# with open('/Users/joewandy/Dropbox/Analysis/neural_net/hmdb_all_compounds.p','wb') as f:\n",
    "#     cPickle.dump(compounds, f)\n",
    "    \n",
    "with open('/Users/joewandy/Dropbox/Analysis/neural_net/hmdb_all_compounds.p','rb') as f:\n",
    "    compounds = cPickle.load(f)"
   ]
  },
  {
   "cell_type": "code",
   "execution_count": 15,
   "metadata": {
    "collapsed": false
   },
   "outputs": [
    {
     "name": "stdout",
     "output_type": "stream",
     "text": [
      "46124\n",
      "1-Methylhistidine (C7H11N3O2) CN1C=NC(C[C@H](N)C(O)=O)=C1\n",
      "1,3-Diaminopropane (C3H10N2) NCCCN\n",
      "2-Ketobutyric acid (C4H6O3) CCC(=O)C(O)=O\n",
      "2-Hydroxybutyric acid (C4H8O3) CCC(O)C(O)=O\n",
      "2-Methoxyestrone (C19H24O3) [H][C@@]12CCC(=O)[C@@]1(C)CC[C@]1([H])C3=C(CC[C@@]21[H])C=C(O)C(OC)=C3\n",
      "(R)-3-Hydroxybutyric acid (C4H8O3) C[C@@H](O)CC(O)=O\n",
      "Deoxyuridine (C9H12N2O5) OC[C@H]1O[C@H](C[C@@H]1O)N1C=CC(=O)NC1=O\n",
      "Deoxycytidine (C9H13N3O4) NC1=NC(=O)N(C=C1)[C@H]1C[C@H](O)[C@@H](CO)O1\n",
      "Cortexolone (C21H30O4) [H]C12CC[C@](O)(C(=O)CO)[C@@]1(C)CCC1([H])[C@@]2([H])CCC2=CC(=O)CC[C@]12C\n",
      "Deoxycorticosterone (C21H30O3) [H][C@@]12CC[C@H](C(=O)CO)[C@@]1(C)CC[C@@]1([H])[C@@]2([H])CCC2=CC(=O)CC[C@]12C\n",
      "4-Pyridoxic acid (C8H9NO4) CC1=NC=C(CO)C(C(O)=O)=C1O\n",
      "Alpha-ketoisovaleric acid (C5H8O3) CC(C)C(=O)C(O)=O\n",
      "p-Hydroxyphenylacetic acid (C8H8O3) OC(=O)CC1=CC=C(O)C=C1\n",
      "Iodotyrosine (C9H10INO3) N[C@@H](CC1=CC=C(O)C(I)=C1)C(O)=O\n",
      "3-Methoxytyramine (C9H13NO2) COC1=C(O)C=CC(CCN)=C1\n",
      "(S)-3-Hydroxyisobutyric acid (C4H8O3) C[C@@H](CO)C(O)=O\n",
      "3-O-Sulfogalactosylceramide (d18:1/24:0) (C48H93NO11S) CCCCCCCCCCCCCCCCCCCCCCCC(=O)N[C@@H](CO[C@@H]1O[C@H](CO)[C@H](O)[C@H](OS(O)(=O)=O)[C@H]1O)[C@H](O)\\C=C\\CCCCCCCCCCCCC\n",
      "Ureidopropionic acid (C4H8N2O3) NC(=O)NCCC(O)=O\n",
      "Tetrahydrobiopterin (C9H15N5O3) CC(O)C(O)C1CNC2=C(N1)C(=O)N=C(N)N2\n",
      "Biotin (C10H16N2O3S) [H][C@]12CS[C@@H](CCCCC(O)=O)[C@@]1([H])NC(=O)N2\n",
      "Androsterone (C19H30O2) [H][C@@]12CCC(=O)[C@@]1(C)CC[C@@]1([H])[C@@]2([H])CC[C@@]2([H])CC(O)CC[C@]12C\n",
      "7-Dehydrocholesterol (C27H44O) [H][C@@]12CC[C@H]([C@H](C)CCCC(C)C)[C@@]1(C)CC[C@@]1([H])C2=CC=C2C[C@@H](O)CC[C@]12C\n",
      "Carnosine (C9H14N4O3) NCCC(=O)N[C@@H](CC1=CN=CN1)C(O)=O\n",
      "Adenine (C5H5N5) NC1=C2NC=NC2=NC=N1\n",
      "Taurocholic acid (C26H45NO7S) [H][C@@]12C[C@H](O)CCC1(C)C1C[C@H](O)C3(C)C(CCC3C1[C@H](O)C2)C(C)CCC(=O)NCCS(O)(=O)=O\n",
      "Aldosterone (C21H28O5) C[C@]12CCC(=O)C=C1CCC1C3CC[C@H](C(=O)CO)[C@]3(C[C@H](O)C21)C=O\n",
      "Dihydrobiopterin (C9H13N5O3) CC(O)C(O)C1=NC2=C(NC1)N=C(N)NC2=O\n",
      "Butyric acid (C4H8O2) CCCC(O)=O\n",
      "Acetic acid (C2H4O2) CC(O)=O\n",
      "Betaine (C5H11NO2) C[N+](C)(C)CC([O-])=O\n",
      "Ascorbic acid (C6H8O6) [H][C@@]1(OC(=O)C(O)=C1O)[C@@H](O)CO\n",
      "Adenosine monophosphate (C10H14N5O7P) NC1=C2N=CN([C@@H]3O[C@H](COP(O)(O)=O)[C@@H](O)[C@H]3O)C2=NC=N1\n",
      "Melibiose (C12H22O11) OC[C@H]1O[C@H](OC[C@H]2OC(O)[C@H](O)[C@@H](O)[C@@H]2O)[C@H](O)[C@@H](O)[C@H]1O\n",
      "Adenosine (C10H13N5O4) NC1=C2N=CN([C@@H]3O[C@H](CO)[C@@H](O)[C@H]3O)C2=NC=N1\n",
      "Ammonia (H3N) N\n",
      "Argininosuccinic acid (C10H18N4O6) N[C@@H](CCCNC(=N)N[C@@H](CC(O)=O)C(O)=O)C(O)=O\n",
      "Androstenedione (C19H26O2) [H][C@@]12CCC(=O)[C@@]1(C)CC[C@@]1([H])[C@@]2([H])CCC2=CC(=O)CC[C@]12C\n",
      "Bilirubin (C33H36N4O6) CC1=C(C=C)\\C(NC1=O)=C\\C1=C(C)C(CCC(O)=O)=C(CC2=C(CCC(O)=O)C(C)=C(N2)\\C=C2/NC(=O)C(C=C)=C2C)N1\n",
      "Cellobiose (C12H22O11) OC[C@H]1O[C@@H](O[C@H]2[C@H](O)[C@@H](O)[C@H](O)O[C@@H]2CO)[C@H](O)[C@@H](O)[C@@H]1O\n",
      "Beta-Alanine (C3H7NO2) NCCC(O)=O\n",
      "Cyclic AMP (C10H12N5O6P) NC1=NC=NC2=C1N=CN2[C@@H]1O[C@@H]2COP(O)(=O)O[C@H]2[C@H]1O\n",
      "Acetoacetic acid (C4H6O3) CC(=O)CC(O)=O\n",
      "Adenosine 3',5'-diphosphate (C10H15N5O10P2) NC1=NC=NC2=C1N=CN2[C@@H]1O[C@H](COP(O)(O)=O)[C@@H](OP(O)(O)=O)[C@H]1O\n",
      "L-Carnitine (C7H15NO3) C[N+](C)(C)C[C@H](O)CC([O-])=O\n",
      "Cortisol (C21H30O5) [H][C@@]12CC[C@@](O)(C(=O)CO)[C@@]1(C)C[C@H](O)[C@@]1([H])[C@@]2([H])CCC2=CC(=O)CC[C@]12C\n",
      "Creatine (C4H9N3O2) CN(CC(O)=O)C(N)=N\n",
      "Cholesterol (C27H46O) [H][C@@]12CC[C@H]([C@H](C)CCCC(C)C)[C@@]1(C)CC[C@@]1([H])[C@@]2([H])CC=C2CC(O)CC[C@]12C\n",
      "Epinephrine (C9H13NO3) CNC[C@H](O)C1=CC(O)=C(O)C=C1\n",
      "Pipecolic acid (C6H11NO2) OC(=O)C1CCCCN1\n",
      "Deoxyinosine (C10H12N4O4) OC[C@H]1O[C@H](C[C@@H]1O)N1C=NC2=C1N=CNC2=O\n",
      "cis-Aconitic acid (C6H6O6) OC(=O)C\\C(=C\\C(O)=O)C(O)=O\n",
      "Dopamine (C8H11NO2) NCCC1=CC(O)=C(O)C=C1\n",
      "Dihydrouracil (C4H6N2O2) O=C1CCNC(=O)N1\n",
      "Dehydroepiandrosterone (C19H28O2) C[C@]12CCC3C(CC=C4C[C@@H](O)CC[C@]34C)C1CCC2=O\n",
      "Cysteinylglycine (C5H10N2O3S) N[C@@H](CS)C(=O)NCC(O)=O\n",
      "Dihydrothymine (C5H8N2O2) CC1CNC(=O)NC1=O\n",
      "Cytidine triphosphate (C9H16N3O14P3) NC1=NC(=O)N(C=C1)[C@@H]1O[C@H](COP(O)(=O)OP(O)(=O)OP(O)(O)=O)[C@@H](O)[C@H]1O\n",
      "Deoxyguanosine (C10H13N5O4) NC1=NC2=C(N=CN2[C@H]2C[C@H](O)[C@@H](CO)O2)C(=O)N1\n",
      "Glycerophosphocholine (C8H20NO6P) C[N+](C)(C)CCOP([O-])(=O)OC[C@@H](O)CO\n",
      "Dimethylamine (C2H7N) CNC\n",
      "Cytidine (C9H13N3O5) NC1=NC(=O)N(C=C1)[C@@H]1O[C@H](CO)[C@@H](O)[C@H]1O\n",
      "Dimethylglycine (C4H9NO2) CN(C)CC(O)=O\n",
      "Citric acid (C6H8O7) OC(=O)CC(O)(CC(O)=O)C(O)=O\n",
      "Cytidine monophosphate (C9H14N3O8P) NC1=NC(=O)N(C=C1)[C@@H]1O[C@H](COP(O)(O)=O)[C@@H](O)[C@H]1O\n",
      "Choline (C5H14NO) C[N+](C)(C)CCO\n",
      "D-Xylose (C5H10O5) O[C@@H]1COC(O)[C@H](O)[C@H]1O\n",
      "L-Cystathionine (C7H14N2O4S) N[C@@H](CCSC[C@H](N)C(O)=O)C(O)=O\n",
      "Deoxyadenosine (C10H13N5O3) NC1=NC=NC2=C1N=CN2[C@H]1C[C@H](O)[C@@H](CO)O1\n",
      "Galactitol (C6H14O6) OC[C@H](O)[C@@H](O)[C@@H](O)[C@H](O)CO\n",
      "Ethanol (C2H6O) CCO\n",
      "Gamma-Aminobutyric acid (C4H9NO2) NCCCC(O)=O\n",
      "Glycerylphosphorylethanolamine (C5H14NO6P) OCCN(CC(O)CO)P(O)(O)=O\n",
      "Glycolic acid (C2H4O3) OCC(O)=O\n",
      "Homovanillic acid (C9H10O4) COC1=CC(CC(O)=O)=CC=C1O\n",
      "Glyoxylic acid (C2H2O3) OC(=O)C=O\n",
      "Folic acid (C19H19N7O6) NC1=NC(=O)C2=NC(CNC3=CC=C(C=C3)C(=O)N[C@@H](CCC(O)=O)C(O)=O)=CN=C2N1\n",
      "D-Glucose (C6H12O6) OC[C@H]1OC(O)[C@H](O)[C@@H](O)[C@@H]1O\n",
      "Glycine (C2H5NO2) NCC(O)=O\n",
      "Fructose 6-phosphate (C6H13O9P) OCC(=O)[C@@H](O)[C@H](O)[C@H](O)COP(O)(O)=O\n",
      "Glutathione (C10H17N3O6S) N[C@@H](CCC(=O)N[C@@H](CS)C(=O)NCC(O)=O)C(O)=O\n",
      "Glycerol 3-phosphate (C3H9O6P) OC[C@@H](O)COP(O)(O)=O\n",
      "D-Glucuronic acid (C6H10O7) O[C@H]1O[C@@H]([C@@H](O)[C@H](O)[C@H]1O)C(O)=O\n",
      "Guanidoacetic acid (C3H7N3O2) NC(=N)NCC(O)=O\n",
      "Homogentisic acid (C8H8O4) OC(=O)CC1=C(O)C=CC(O)=C1\n",
      "Glycerol (C3H8O3) OCC(O)CO\n",
      "Guanine (C5H5N5O) NC1=NC(=O)C2=C(N1)N=CN2\n",
      "Guanosine (C10H13N5O5) NC1=NC2=C(N=CN2[C@@H]2O[C@H](CO)[C@@H](O)[C@H]2O)C(=O)N1\n",
      "Fumaric acid (C4H4O4) OC(=O)\\C=C\\C(O)=O\n",
      "Glycocholic acid (C26H43NO6) [H][C@@]12CC[C@H]([C@H](C)CCC(=O)NCC(O)=O)[C@@]1(C)[C@@H](O)C[C@@]1([H])[C@@]2([H])[C@H](O)CC2C[C@H](O)CC[C@]12C\n",
      "Glyceric acid (C3H6O4) OC[C@@H](O)C(O)=O\n",
      "Glucosylceramide (C48H93NO8) CCCCCCCCCCCCCCCCCCCCCCCC(=O)N[C@@H](CO[C@@H]1O[C@H](CO)C(O)[C@H](O)[C@H]1O)[C@H](O)\\C=C\\CCCCCCCCCCCCC\n",
      "Formic acid (CH2O2) OC=O\n",
      "D-Galactose (C6H12O6) OC[C@H]1O[C@H](O)[C@H](O)[C@@H](O)[C@H]1O\n",
      "Estrone (C18H22O2) [H][C@@]12CCC(=O)[C@@]1(C)CC[C@]1([H])C3=C(CC[C@@]21[H])C=C(O)C=C3\n",
      "L-Glutamic acid (C5H9NO4) N[C@@H](CCC(O)=O)C(O)=O\n",
      "Ethanolamine (C2H7NO) NCCO\n",
      "Gluconolactone (C6H10O6) OC[C@H]1OC(=O)[C@H](O)[C@@H](O)[C@@H]1O\n",
      "Estradiol (C18H24O2) [H][C@@]12CC[C@H](O)[C@@]1(C)CC[C@]1([H])C3=C(CC[C@@]21[H])C=C(O)C=C3\n",
      "Gentisic acid (C7H6O4) OC(=O)C1=C(O)C=CC(O)=C1\n",
      "Estriol (C18H24O3) [H][C@@]12C[C@@H](O)[C@H](O)[C@@]1(C)CC[C@]1([H])C3=C(CC[C@@]21[H])C=C(O)C=C3\n"
     ]
    }
   ],
   "source": [
    "print len(compounds)\n",
    "for i in range(100):\n",
    "    print compounds[i], compounds[i].identifiers['smiles']"
   ]
  },
  {
   "cell_type": "code",
   "execution_count": 19,
   "metadata": {
    "collapsed": false
   },
   "outputs": [
    {
     "name": "stdout",
     "output_type": "stream",
     "text": [
      "TG(20:0/20:0/21:0) (C64H124O6) [H][C@](COC(=O)CCCCCCCCCCCCCCCCCCC)(COC(=O)CCCCCCCCCCCCCCCCCCCC)OC(=O)CCCCCCCCCCCCCCCCCCC\n",
      "TG(a-21:0/14:0/i-17:0)[rac] (C55H106O6) [H][C@](COC(=O)CCCCCCCCCCCCCCCCC(C)CC)(COC(=O)CCCCCCCCCCCCCC(C)C)OC(=O)CCCCCCCCCCCCC\n",
      "TG(a-21:0/a-13:0/22:0)[rac] (C59H114O6) [H][C@@](COC(=O)CCCCCCCCCCCCCCCCCCCCC)(COC(=O)CCCCCCCCCCCCCCCCC(C)CC)OC(=O)CCCCCCCCC(C)CC\n",
      "TG(a-21:0/i-14:0/14:0)[rac] (C52H100O6) [H][C@@](COC(=O)CCCCCCCCCCCCC)(COC(=O)CCCCCCCCCCCCCCCCC(C)CC)OC(=O)CCCCCCCCCCC(C)C\n",
      "TG(a-21:0/17:0/14:0)[rac] (C55H106O6) [H][C@@](COC(=O)CCCCCCCCCCCCC)(COC(=O)CCCCCCCCCCCCCCCCC(C)CC)OC(=O)CCCCCCCCCCCCCCCC\n",
      "TG(a-21:0/i-17:0/13:0)[rac] (C54H104O6) [H][C@@](COC(=O)CCCCCCCCCCCC)(COC(=O)CCCCCCCCCCCCCCCCC(C)CC)OC(=O)CCCCCCCCCCCCCC(C)C\n",
      "TG(21:0/21:0/16:0) (C61H118O6) [H][C@@](COC(=O)CCCCCCCCCCCCCCC)(COC(=O)CCCCCCCCCCCCCCCCCCCC)OC(=O)CCCCCCCCCCCCCCCCCCCC\n",
      "TG(20:0/i-24:0/i-24:0) (C71H138O6) [H][C@](COC(=O)CCCCCCCCCCCCCCCCCCC)(COC(=O)CCCCCCCCCCCCCCCCCCCCC(C)C)OC(=O)CCCCCCCCCCCCCCCCCCCCC(C)C\n",
      "TG(i-20:0/i-20:0/21:0) (C64H124O6) [H][C@@](COC(=O)CCCCCCCCCCCCCCCCCCCC)(COC(=O)CCCCCCCCCCCCCCCCC(C)C)OC(=O)CCCCCCCCCCCCCCCCC(C)C\n",
      "TG(21:0/i-12:0/i-21:0) (C57H110O6) [H][C@](COC(=O)CCCCCCCCCCCCCCCCCCCC)(COC(=O)CCCCCCCCCCCCCCCCCC(C)C)OC(=O)CCCCCCCCC(C)C\n",
      "TG(21:0/10:0/19:0) (C53H102O6) [H][C@@](COC(=O)CCCCCCCCCCCCCCCCCC)(COC(=O)CCCCCCCCCCCCCCCCCCCC)OC(=O)CCCCCCCCC\n",
      "TG(21:0/15:0/19:0) (C58H112O6) [H][C@@](COC(=O)CCCCCCCCCCCCCCCCCC)(COC(=O)CCCCCCCCCCCCCCCCCCCC)OC(=O)CCCCCCCCCCCCCC\n",
      "TG(a-21:0/12:0/a-17:0)[rac] (C53H102O6) [H][C@](COC(=O)CCCCCCCCCCCCCCCCC(C)CC)(COC(=O)CCCCCCCCCCCCC(C)CC)OC(=O)CCCCCCCCCCC\n",
      "TG(i-21:0/i-14:0/i-12:0) (C50H96O6) [H][C@](COC(=O)CCCCCCCCCCCCCCCCCC(C)C)(COC(=O)CCCCCCCCC(C)C)OC(=O)CCCCCCCCCCC(C)C\n",
      "TG(21:0/15:0/22:0) (C61H118O6) [H][C@](COC(=O)CCCCCCCCCCCCCCCCCCCC)(COC(=O)CCCCCCCCCCCCCCCCCCCCC)OC(=O)CCCCCCCCCCCCCC\n",
      "TG(20:0/i-24:0/i-17:0) (C64H124O6) [H][C@](COC(=O)CCCCCCCCCCCCCCCCCCC)(COC(=O)CCCCCCCCCCCCCC(C)C)OC(=O)CCCCCCCCCCCCCCCCCCCCC(C)C\n",
      "TG(21:0/i-15:0/i-19:0) (C58H112O6) [H][C@](COC(=O)CCCCCCCCCCCCCCCCCCCC)(COC(=O)CCCCCCCCCCCCCCCC(C)C)OC(=O)CCCCCCCCCCCC(C)C\n",
      "TG(20:0/a-25:0/18:0)[rac] (C66H128O6) [H][C@@](COC(=O)CCCCCCCCCCCCCCCCC)(COC(=O)CCCCCCCCCCCCCCCCCCC)OC(=O)CCCCCCCCCCCCCCCCCCCCC(C)CC\n",
      "TG(a-21:0/14:0/i-20:0)[rac] (C58H112O6) [H][C@@](COC(=O)CCCCCCCCCCCCCCCCC(C)C)(COC(=O)CCCCCCCCCCCCCCCCC(C)CC)OC(=O)CCCCCCCCCCCCC\n",
      "TG(i-20:0/i-21:0/a-17:0)[rac] (C61H118O6) [H][C@](COC(=O)CCCCCCCCCCCCCCCCC(C)C)(COC(=O)CCCCCCCCCCCCC(C)CC)OC(=O)CCCCCCCCCCCCCCCCCC(C)C\n",
      "TG(i-20:0/21:0/a-25:0)[rac] (C69H134O6) [H][C@@](COC(=O)CCCCCCCCCCCCCCCCCCCCC(C)CC)(COC(=O)CCCCCCCCCCCCCCCCC(C)C)OC(=O)CCCCCCCCCCCCCCCCCCCC\n",
      "TG(i-21:0/13:0/i-18:0) (C55H106O6) [H][C@](COC(=O)CCCCCCCCCCCCCCCCCC(C)C)(COC(=O)CCCCCCCCCCCCCCC(C)C)OC(=O)CCCCCCCCCCCC\n",
      "TG(20:0/a-21:0/16:0)[rac] (C60H116O6) [H][C@@](COC(=O)CCCCCCCCCCCCCCC)(COC(=O)CCCCCCCCCCCCCCCCCCC)OC(=O)CCCCCCCCCCCCCCCCC(C)CC\n",
      "TG(i-20:0/i-24:0/i-22:0) (C69H134O6) [H][C@@](COC(=O)CCCCCCCCCCCCCCCCCCC(C)C)(COC(=O)CCCCCCCCCCCCCCCCC(C)C)OC(=O)CCCCCCCCCCCCCCCCCCCCC(C)C\n",
      "TG(21:0/i-16:0/a-15:0)[rac] (C55H106O6) [H][C@](COC(=O)CCCCCCCCCCCCCCCCCCCC)(COC(=O)CCCCCCCCCCC(C)CC)OC(=O)CCCCCCCCCCCCC(C)C\n",
      "TG(i-21:0/i-15:0/17:0) (C56H108O6) [H][C@@](COC(=O)CCCCCCCCCCCCCCCC)(COC(=O)CCCCCCCCCCCCCCCCCC(C)C)OC(=O)CCCCCCCCCCCC(C)C\n",
      "TG(20:0/22:0/i-19:0) (C64H124O6) [H][C@](COC(=O)CCCCCCCCCCCCCCCCCCC)(COC(=O)CCCCCCCCCCCCCCCC(C)C)OC(=O)CCCCCCCCCCCCCCCCCCCCC\n",
      "TG(i-21:0/12:0/21:0) (C57H110O6) [H][C@@](COC(=O)CCCCCCCCCCCCCCCCCCCC)(COC(=O)CCCCCCCCCCCCCCCCCC(C)C)OC(=O)CCCCCCCCCCC\n",
      "TG(i-20:0/21:0/a-17:0)[rac] (C61H118O6) [H][C@](COC(=O)CCCCCCCCCCCCCCCCC(C)C)(COC(=O)CCCCCCCCCCCCC(C)CC)OC(=O)CCCCCCCCCCCCCCCCCCCC\n",
      "TG(a-21:0/a-15:0/17:0)[rac] (C56H108O6) [H][C@@](COC(=O)CCCCCCCCCCCCCCCC)(COC(=O)CCCCCCCCCCCCCCCCC(C)CC)OC(=O)CCCCCCCCCCC(C)CC\n",
      "TG(i-20:0/a-21:0/17:0)[rac] (C61H118O6) [H][C@@](COC(=O)CCCCCCCCCCCCCCCC)(COC(=O)CCCCCCCCCCCCCCCCC(C)C)OC(=O)CCCCCCCCCCCCCCCCC(C)CC\n",
      "TG(21:0/16:0/i-18:0) (C58H112O6) [H][C@](COC(=O)CCCCCCCCCCCCCCCCCCCC)(COC(=O)CCCCCCCCCCCCCCC(C)C)OC(=O)CCCCCCCCCCCCCCC\n",
      "TG(i-20:0/i-22:0/8:0) (C53H102O6) [H][C@@](COC(=O)CCCCCCC)(COC(=O)CCCCCCCCCCCCCCCCC(C)C)OC(=O)CCCCCCCCCCCCCCCCCCC(C)C\n",
      "TG(i-21:0/i-12:0/i-12:0) (C48H92O6) [H][C@](COC(=O)CCCCCCCCCCCCCCCCCC(C)C)(COC(=O)CCCCCCCCC(C)C)OC(=O)CCCCCCCCC(C)C\n",
      "TG(i-21:0/a-13:0/21:0)[rac] (C58H112O6) [H][C@@](COC(=O)CCCCCCCCCCCCCCCCCCCC)(COC(=O)CCCCCCCCCCCCCCCCCC(C)C)OC(=O)CCCCCCCCC(C)CC\n",
      "TG(i-21:0/15:0/10:0) (C49H94O6) [H][C@@](COC(=O)CCCCCCCCC)(COC(=O)CCCCCCCCCCCCCCCCCC(C)C)OC(=O)CCCCCCCCCCCCCC\n",
      "TG(20:0/a-25:0/i-12:0)[rac] (C60H116O6) [H][C@](COC(=O)CCCCCCCCCCCCCCCCCCC)(COC(=O)CCCCCCCCC(C)C)OC(=O)CCCCCCCCCCCCCCCCCCCCC(C)CC\n",
      "TG(a-21:0/10:0/i-16:0)[rac] (C50H96O6) [H][C@](COC(=O)CCCCCCCCCCCCCCCCC(C)CC)(COC(=O)CCCCCCCCCCCCC(C)C)OC(=O)CCCCCCCCC\n",
      "TG(21:0/8:0/a-17:0)[rac] (C49H94O6) [H][C@](COC(=O)CCCCCCCCCCCCCCCCCCCC)(COC(=O)CCCCCCCCCCCCC(C)CC)OC(=O)CCCCCCC\n",
      "TG(a-21:0/i-13:0/a-15:0)[rac] (C52H100O6) [H][C@](COC(=O)CCCCCCCCCCCCCCCCC(C)CC)(COC(=O)CCCCCCCCCCC(C)CC)OC(=O)CCCCCCCCCC(C)C\n",
      "TG(i-21:0/a-15:0/a-15:0)[rac] (C54H104O6) [H][C@](COC(=O)CCCCCCCCCCCCCCCCCC(C)C)(COC(=O)CCCCCCCCCCC(C)CC)OC(=O)CCCCCCCCCCC(C)CC\n",
      "TG(i-21:0/i-16:0/i-17:0) (C57H110O6) [H][C@](COC(=O)CCCCCCCCCCCCCCCCCC(C)C)(COC(=O)CCCCCCCCCCCCCC(C)C)OC(=O)CCCCCCCCCCCCC(C)C\n",
      "TG(20:0/20:0/i-24:0) (C67H130O6) [H][C@](COC(=O)CCCCCCCCCCCCCCCCCCC)(COC(=O)CCCCCCCCCCCCCCCCCCCCC(C)C)OC(=O)CCCCCCCCCCCCCCCCCCC\n",
      "TG(20:0/i-24:0/21:0) (C68H132O6) [H][C@](COC(=O)CCCCCCCCCCCCCCCCCCC)(COC(=O)CCCCCCCCCCCCCCCCCCCC)OC(=O)CCCCCCCCCCCCCCCCCCCCC(C)C\n",
      "TG(21:0/a-15:0/i-16:0)[rac] (C55H106O6) [H][C@](COC(=O)CCCCCCCCCCCCCCCCCCCC)(COC(=O)CCCCCCCCCCCCC(C)C)OC(=O)CCCCCCCCCCC(C)CC\n",
      "TG(20:0/21:0/i-16:0) (C60H116O6) [H][C@](COC(=O)CCCCCCCCCCCCCCCCCCC)(COC(=O)CCCCCCCCCCCCC(C)C)OC(=O)CCCCCCCCCCCCCCCCCCCC\n",
      "TG(20:0/22:0/a-21:0)[rac] (C66H128O6) [H][C@](COC(=O)CCCCCCCCCCCCCCCCCCC)(COC(=O)CCCCCCCCCCCCCCCCC(C)CC)OC(=O)CCCCCCCCCCCCCCCCCCCCC\n",
      "TG(i-21:0/10:0/i-24:0) (C58H112O6) [H][C@@](COC(=O)CCCCCCCCCCCCCCCCCCCCC(C)C)(COC(=O)CCCCCCCCCCCCCCCCCC(C)C)OC(=O)CCCCCCCCC\n",
      "TG(21:0/i-12:0/a-13:0)[rac] (C49H94O6) [H][C@](COC(=O)CCCCCCCCCCCCCCCCCCCC)(COC(=O)CCCCCCCCC(C)CC)OC(=O)CCCCCCCCC(C)C\n",
      "TG(20:0/i-21:0/8:0) (C52H100O6) [H][C@@](COC(=O)CCCCCCC)(COC(=O)CCCCCCCCCCCCCCCCCCC)OC(=O)CCCCCCCCCCCCCCCCCC(C)C\n",
      "TG(i-20:0/22:0/18:0) (C63H122O6) [H][C@@](COC(=O)CCCCCCCCCCCCCCCCC)(COC(=O)CCCCCCCCCCCCCCCCC(C)C)OC(=O)CCCCCCCCCCCCCCCCCCCCC\n",
      "TG(a-21:0/16:0/10:0)[rac] (C50H96O6) [H][C@@](COC(=O)CCCCCCCCC)(COC(=O)CCCCCCCCCCCCCCCCC(C)CC)OC(=O)CCCCCCCCCCCCCCC\n",
      "TG(i-21:0/a-15:0/21:0)[rac] (C60H116O6) [H][C@@](COC(=O)CCCCCCCCCCCCCCCCCCCC)(COC(=O)CCCCCCCCCCCCCCCCCC(C)C)OC(=O)CCCCCCCCCCC(C)CC\n",
      "TG(a-21:0/i-12:0/13:0)[rac] (C49H94O6) [H][C@@](COC(=O)CCCCCCCCCCCC)(COC(=O)CCCCCCCCCCCCCCCCC(C)CC)OC(=O)CCCCCCCCC(C)C\n",
      "TG(i-21:0/12:0/i-18:0) (C54H104O6) [H][C@](COC(=O)CCCCCCCCCCCCCCCCCC(C)C)(COC(=O)CCCCCCCCCCCCCCC(C)C)OC(=O)CCCCCCCCCCC\n",
      "TG(a-21:0/8:0/16:0)[rac] (C48H92O6) [H][C@@](COC(=O)CCCCCCCCCCCCCCC)(COC(=O)CCCCCCCCCCCCCCCCC(C)CC)OC(=O)CCCCCCC\n",
      "TG(i-21:0/13:0/18:0) (C55H106O6) [H][C@@](COC(=O)CCCCCCCCCCCCCCCCC)(COC(=O)CCCCCCCCCCCCCCCCCC(C)C)OC(=O)CCCCCCCCCCCC\n",
      "TG(21:0/i-12:0/a-17:0)[rac] (C53H102O6) [H][C@](COC(=O)CCCCCCCCCCCCCCCCCCCC)(COC(=O)CCCCCCCCCCCCC(C)CC)OC(=O)CCCCCCCCC(C)C\n",
      "TG(i-21:0/8:0/i-12:0) (C44H84O6) [H][C@](COC(=O)CCCCCCCCCCCCCCCCCC(C)C)(COC(=O)CCCCCCCCC(C)C)OC(=O)CCCCCCC\n",
      "TG(21:0/13:0/8:0) (C45H86O6) [H][C@@](COC(=O)CCCCCCC)(COC(=O)CCCCCCCCCCCCCCCCCCCC)OC(=O)CCCCCCCCCCCC\n",
      "TG(i-20:0/20:0/i-22:0) (C65H126O6) [H][C@@](COC(=O)CCCCCCCCCCCCCCCCCCC(C)C)(COC(=O)CCCCCCCCCCCCCCCCC(C)C)OC(=O)CCCCCCCCCCCCCCCCCCC\n",
      "TG(21:0/12:0/i-14:0) (C50H96O6) [H][C@](COC(=O)CCCCCCCCCCCCCCCCCCCC)(COC(=O)CCCCCCCCCCC(C)C)OC(=O)CCCCCCCCCCC\n",
      "TG(i-21:0/a-13:0/i-18:0)[rac] (C55H106O6) [H][C@](COC(=O)CCCCCCCCCCCCCCCCCC(C)C)(COC(=O)CCCCCCCCCCCCCCC(C)C)OC(=O)CCCCCCCCC(C)CC\n",
      "TG(i-20:0/20:0/16:0) (C59H114O6) [H][C@@](COC(=O)CCCCCCCCCCCCCCC)(COC(=O)CCCCCCCCCCCCCCCCC(C)C)OC(=O)CCCCCCCCCCCCCCCCCCC\n",
      "TG(i-21:0/i-21:0/14:0) (C59H114O6) [H][C@@](COC(=O)CCCCCCCCCCCCC)(COC(=O)CCCCCCCCCCCCCCCCCC(C)C)OC(=O)CCCCCCCCCCCCCCCCCC(C)C\n",
      "TG(21:0/16:0/12:0) (C52H100O6) [H][C@@](COC(=O)CCCCCCCCCCC)(COC(=O)CCCCCCCCCCCCCCCCCCCC)OC(=O)CCCCCCCCCCCCCCC\n",
      "TG(21:0/14:0/a-21:0)[rac] (C59H114O6) [H][C@](COC(=O)CCCCCCCCCCCCCCCCCCCC)(COC(=O)CCCCCCCCCCCCCCCCC(C)CC)OC(=O)CCCCCCCCCCCCC\n",
      "TG(20:0/22:0/18:0) (C63H122O6) [H][C@@](COC(=O)CCCCCCCCCCCCCCCCC)(COC(=O)CCCCCCCCCCCCCCCCCCC)OC(=O)CCCCCCCCCCCCCCCCCCCCC\n",
      "TG(21:0/i-13:0/i-12:0) (C49H94O6) [H][C@](COC(=O)CCCCCCCCCCCCCCCCCCCC)(COC(=O)CCCCCCCCC(C)C)OC(=O)CCCCCCCCCC(C)C\n",
      "TG(a-21:0/i-14:0/i-22:0)[rac] (C60H116O6) [H][C@@](COC(=O)CCCCCCCCCCCCCCCCCCC(C)C)(COC(=O)CCCCCCCCCCCCCCCCC(C)CC)OC(=O)CCCCCCCCCCC(C)C\n",
      "TG(i-20:0/i-21:0/i-19:0) (C63H122O6) [H][C@](COC(=O)CCCCCCCCCCCCCCCCC(C)C)(COC(=O)CCCCCCCCCCCCCCCC(C)C)OC(=O)CCCCCCCCCCCCCCCCCC(C)C\n",
      "TG(a-21:0/8:0/8:0)[rac] (C40H76O6) [H][C@@](COC(=O)CCCCCCC)(COC(=O)CCCCCCCCCCCCCCCCC(C)CC)OC(=O)CCCCCCC\n",
      "TG(21:0/a-17:0/i-14:0)[rac] (C55H106O6) [H][C@](COC(=O)CCCCCCCCCCCCCCCCCCCC)(COC(=O)CCCCCCCCCCC(C)C)OC(=O)CCCCCCCCCCCCC(C)CC\n",
      "TG(21:0/i-14:0/a-17:0)[rac] (C55H106O6) [H][C@](COC(=O)CCCCCCCCCCCCCCCCCCCC)(COC(=O)CCCCCCCCCCCCC(C)CC)OC(=O)CCCCCCCCCCC(C)C\n",
      "TG(i-21:0/10:0/i-15:0) (C49H94O6) [H][C@](COC(=O)CCCCCCCCCCCCCCCCCC(C)C)(COC(=O)CCCCCCCCCCCC(C)C)OC(=O)CCCCCCCCC\n",
      "TG(21:0/13:0/i-20:0) (C57H110O6) [H][C@](COC(=O)CCCCCCCCCCCCCCCCCCCC)(COC(=O)CCCCCCCCCCCCCCCCC(C)C)OC(=O)CCCCCCCCCCCC\n",
      "TG(i-21:0/i-15:0/10:0) (C49H94O6) [H][C@@](COC(=O)CCCCCCCCC)(COC(=O)CCCCCCCCCCCCCCCCCC(C)C)OC(=O)CCCCCCCCCCCC(C)C\n",
      "TG(21:0/15:0/i-17:0) (C56H108O6) [H][C@](COC(=O)CCCCCCCCCCCCCCCCCCCC)(COC(=O)CCCCCCCCCCCCCC(C)C)OC(=O)CCCCCCCCCCCCCC\n",
      "TG(i-20:0/i-21:0/i-16:0) (C60H116O6) [H][C@](COC(=O)CCCCCCCCCCCCCCCCC(C)C)(COC(=O)CCCCCCCCCCCCC(C)C)OC(=O)CCCCCCCCCCCCCCCCCC(C)C\n",
      "TG(a-21:0/12:0/20:0)[rac] (C56H108O6) [H][C@@](COC(=O)CCCCCCCCCCCCCCCCCCC)(COC(=O)CCCCCCCCCCCCCCCCC(C)CC)OC(=O)CCCCCCCCCCC\n",
      "TG(a-21:0/16:0/i-13:0)[rac] (C53H102O6) [H][C@](COC(=O)CCCCCCCCCCCCCCCCC(C)CC)(COC(=O)CCCCCCCCCC(C)C)OC(=O)CCCCCCCCCCCCCCC\n",
      "TG(20:0/a-21:0/i-17:0)[rac] (C61H118O6) [H][C@](COC(=O)CCCCCCCCCCCCCCCCCCC)(COC(=O)CCCCCCCCCCCCCC(C)C)OC(=O)CCCCCCCCCCCCCCCCC(C)CC\n",
      "TG(i-20:0/i-22:0/a-25:0)[rac] (C70H136O6) [H][C@@](COC(=O)CCCCCCCCCCCCCCCCCCCCC(C)CC)(COC(=O)CCCCCCCCCCCCCCCCC(C)C)OC(=O)CCCCCCCCCCCCCCCCCCC(C)C\n",
      "TG(i-21:0/i-12:0/15:0) (C51H98O6) [H][C@@](COC(=O)CCCCCCCCCCCCCC)(COC(=O)CCCCCCCCCCCCCCCCCC(C)C)OC(=O)CCCCCCCCC(C)C\n",
      "TG(i-20:0/a-21:0/21:0)[rac] (C65H126O6) [H][C@@](COC(=O)CCCCCCCCCCCCCCCCCCCC)(COC(=O)CCCCCCCCCCCCCCCCC(C)C)OC(=O)CCCCCCCCCCCCCCCCC(C)CC\n",
      "TG(a-21:0/a-15:0/i-12:0)[rac] (C51H98O6) [H][C@](COC(=O)CCCCCCCCCCCCCCCCC(C)CC)(COC(=O)CCCCCCCCC(C)C)OC(=O)CCCCCCCCCCC(C)CC\n",
      "TG(21:0/13:0/a-17:0)[rac] (C54H104O6) [H][C@](COC(=O)CCCCCCCCCCCCCCCCCCCC)(COC(=O)CCCCCCCCCCCCC(C)CC)OC(=O)CCCCCCCCCCCC\n",
      "TG(a-21:0/a-13:0/i-20:0)[rac] (C57H110O6) [H][C@@](COC(=O)CCCCCCCCCCCCCCCCC(C)C)(COC(=O)CCCCCCCCCCCCCCCCC(C)CC)OC(=O)CCCCCCCCC(C)CC\n",
      "TG(i-20:0/i-22:0/13:0) (C58H112O6) [H][C@@](COC(=O)CCCCCCCCCCCC)(COC(=O)CCCCCCCCCCCCCCCCC(C)C)OC(=O)CCCCCCCCCCCCCCCCCCC(C)C\n",
      "TG(i-20:0/a-25:0/i-17:0)[rac] (C65H126O6) [H][C@](COC(=O)CCCCCCCCCCCCCCCCC(C)C)(COC(=O)CCCCCCCCCCCCCC(C)C)OC(=O)CCCCCCCCCCCCCCCCCCCCC(C)CC\n",
      "TG(21:0/i-13:0/i-20:0) (C57H110O6) [H][C@](COC(=O)CCCCCCCCCCCCCCCCCCCC)(COC(=O)CCCCCCCCCCCCCCCCC(C)C)OC(=O)CCCCCCCCCC(C)C\n",
      "TG(21:0/10:0/a-25:0)[rac] (C59H114O6) [H][C@](COC(=O)CCCCCCCCCCCCCCCCCCCC)(COC(=O)CCCCCCCCCCCCCCCCCCCCC(C)CC)OC(=O)CCCCCCCCC\n",
      "TG(21:0/10:0/i-24:0) (C58H112O6) [H][C@](COC(=O)CCCCCCCCCCCCCCCCCCCC)(COC(=O)CCCCCCCCCCCCCCCCCCCCC(C)C)OC(=O)CCCCCCCCC\n",
      "TG(i-21:0/16:0/a-17:0)[rac] (C57H110O6) [H][C@](COC(=O)CCCCCCCCCCCCCCCCCC(C)C)(COC(=O)CCCCCCCCCCCCC(C)CC)OC(=O)CCCCCCCCCCCCCCC\n",
      "TG(a-21:0/i-16:0/i-16:0)[rac] (C56H108O6) [H][C@](COC(=O)CCCCCCCCCCCCCCCCC(C)CC)(COC(=O)CCCCCCCCCCCCC(C)C)OC(=O)CCCCCCCCCCCCC(C)C\n",
      "TG(i-21:0/8:0/i-22:0) (C54H104O6) [H][C@@](COC(=O)CCCCCCCCCCCCCCCCCCC(C)C)(COC(=O)CCCCCCCCCCCCCCCCCC(C)C)OC(=O)CCCCCCC\n",
      "TG(21:0/15:0/i-21:0) (C60H116O6) [H][C@](COC(=O)CCCCCCCCCCCCCCCCCCCC)(COC(=O)CCCCCCCCCCCCCCCCCC(C)C)OC(=O)CCCCCCCCCCCCCC\n",
      "TG(a-21:0/13:0/i-12:0)[rac] (C49H94O6) [H][C@](COC(=O)CCCCCCCCCCCCCCCCC(C)CC)(COC(=O)CCCCCCCCC(C)C)OC(=O)CCCCCCCCCCCC\n",
      "TG(a-21:0/a-21:0/16:0)[rac] (C61H118O6) [H][C@@](COC(=O)CCCCCCCCCCCCCCC)(COC(=O)CCCCCCCCCCCCCCCCC(C)CC)OC(=O)CCCCCCCCCCCCCCCCC(C)CC\n",
      "TG(i-21:0/a-17:0/i-13:0)[rac] (C54H104O6) [H][C@](COC(=O)CCCCCCCCCCCCCCCCCC(C)C)(COC(=O)CCCCCCCCCC(C)C)OC(=O)CCCCCCCCCCCCC(C)CC\n"
     ]
    }
   ],
   "source": [
    "last = compounds[-100:]\n",
    "for c in last:\n",
    "    print c, c.identifiers['smiles']"
   ]
  },
  {
   "cell_type": "markdown",
   "metadata": {},
   "source": [
    "Turn into a panda thing"
   ]
  },
  {
   "cell_type": "code",
   "execution_count": 8,
   "metadata": {
    "collapsed": false
   },
   "outputs": [],
   "source": [
    "rows = [compound.identifiers['smiles'][:120] for compound in compounds]\n",
    "df = pd.DataFrame(rows, columns=['structure'])"
   ]
  },
  {
   "cell_type": "code",
   "execution_count": 9,
   "metadata": {
    "collapsed": false
   },
   "outputs": [
    {
     "data": {
      "text/html": [
       "<div>\n",
       "<table border=\"1\" class=\"dataframe\">\n",
       "  <thead>\n",
       "    <tr style=\"text-align: right;\">\n",
       "      <th></th>\n",
       "      <th>structure</th>\n",
       "    </tr>\n",
       "  </thead>\n",
       "  <tbody>\n",
       "    <tr>\n",
       "      <th>0</th>\n",
       "      <td>CN1C=NC(C[C@H](N)C(O)=O)=C1</td>\n",
       "    </tr>\n",
       "    <tr>\n",
       "      <th>1</th>\n",
       "      <td>NCCCN</td>\n",
       "    </tr>\n",
       "    <tr>\n",
       "      <th>2</th>\n",
       "      <td>CCC(=O)C(O)=O</td>\n",
       "    </tr>\n",
       "    <tr>\n",
       "      <th>3</th>\n",
       "      <td>CCC(O)C(O)=O</td>\n",
       "    </tr>\n",
       "    <tr>\n",
       "      <th>4</th>\n",
       "      <td>[H][C@@]12CCC(=O)[C@@]1(C)CC[C@]1([H])C3=C(CC[...</td>\n",
       "    </tr>\n",
       "    <tr>\n",
       "      <th>5</th>\n",
       "      <td>C[C@@H](O)CC(O)=O</td>\n",
       "    </tr>\n",
       "    <tr>\n",
       "      <th>6</th>\n",
       "      <td>OC[C@H]1O[C@H](C[C@@H]1O)N1C=CC(=O)NC1=O</td>\n",
       "    </tr>\n",
       "    <tr>\n",
       "      <th>7</th>\n",
       "      <td>NC1=NC(=O)N(C=C1)[C@H]1C[C@H](O)[C@@H](CO)O1</td>\n",
       "    </tr>\n",
       "    <tr>\n",
       "      <th>8</th>\n",
       "      <td>[H]C12CC[C@](O)(C(=O)CO)[C@@]1(C)CCC1([H])[C@@...</td>\n",
       "    </tr>\n",
       "    <tr>\n",
       "      <th>9</th>\n",
       "      <td>[H][C@@]12CC[C@H](C(=O)CO)[C@@]1(C)CC[C@@]1([H...</td>\n",
       "    </tr>\n",
       "    <tr>\n",
       "      <th>10</th>\n",
       "      <td>CC1=NC=C(CO)C(C(O)=O)=C1O</td>\n",
       "    </tr>\n",
       "    <tr>\n",
       "      <th>11</th>\n",
       "      <td>CC(C)C(=O)C(O)=O</td>\n",
       "    </tr>\n",
       "    <tr>\n",
       "      <th>12</th>\n",
       "      <td>OC(=O)CC1=CC=C(O)C=C1</td>\n",
       "    </tr>\n",
       "    <tr>\n",
       "      <th>13</th>\n",
       "      <td>N[C@@H](CC1=CC=C(O)C(I)=C1)C(O)=O</td>\n",
       "    </tr>\n",
       "    <tr>\n",
       "      <th>14</th>\n",
       "      <td>COC1=C(O)C=CC(CCN)=C1</td>\n",
       "    </tr>\n",
       "    <tr>\n",
       "      <th>15</th>\n",
       "      <td>C[C@@H](CO)C(O)=O</td>\n",
       "    </tr>\n",
       "    <tr>\n",
       "      <th>16</th>\n",
       "      <td>CCCCCCCCCCCCCCCCCCCCCCCC(=O)N[C@@H](CO[C@@H]1O...</td>\n",
       "    </tr>\n",
       "    <tr>\n",
       "      <th>17</th>\n",
       "      <td>NC(=O)NCCC(O)=O</td>\n",
       "    </tr>\n",
       "    <tr>\n",
       "      <th>18</th>\n",
       "      <td>CC(O)C(O)C1CNC2=C(N1)C(=O)N=C(N)N2</td>\n",
       "    </tr>\n",
       "    <tr>\n",
       "      <th>19</th>\n",
       "      <td>[H][C@]12CS[C@@H](CCCCC(O)=O)[C@@]1([H])NC(=O)N2</td>\n",
       "    </tr>\n",
       "    <tr>\n",
       "      <th>20</th>\n",
       "      <td>[H][C@@]12CCC(=O)[C@@]1(C)CC[C@@]1([H])[C@@]2(...</td>\n",
       "    </tr>\n",
       "    <tr>\n",
       "      <th>21</th>\n",
       "      <td>[H][C@@]12CC[C@H]([C@H](C)CCCC(C)C)[C@@]1(C)CC...</td>\n",
       "    </tr>\n",
       "    <tr>\n",
       "      <th>22</th>\n",
       "      <td>NCCC(=O)N[C@@H](CC1=CN=CN1)C(O)=O</td>\n",
       "    </tr>\n",
       "    <tr>\n",
       "      <th>23</th>\n",
       "      <td>NC1=C2NC=NC2=NC=N1</td>\n",
       "    </tr>\n",
       "    <tr>\n",
       "      <th>24</th>\n",
       "      <td>[H][C@@]12C[C@H](O)CCC1(C)C1C[C@H](O)C3(C)C(CC...</td>\n",
       "    </tr>\n",
       "    <tr>\n",
       "      <th>25</th>\n",
       "      <td>C[C@]12CCC(=O)C=C1CCC1C3CC[C@H](C(=O)CO)[C@]3(...</td>\n",
       "    </tr>\n",
       "    <tr>\n",
       "      <th>26</th>\n",
       "      <td>CC(O)C(O)C1=NC2=C(NC1)N=C(N)NC2=O</td>\n",
       "    </tr>\n",
       "    <tr>\n",
       "      <th>27</th>\n",
       "      <td>CCCC(O)=O</td>\n",
       "    </tr>\n",
       "    <tr>\n",
       "      <th>28</th>\n",
       "      <td>CC(O)=O</td>\n",
       "    </tr>\n",
       "    <tr>\n",
       "      <th>29</th>\n",
       "      <td>C[N+](C)(C)CC([O-])=O</td>\n",
       "    </tr>\n",
       "    <tr>\n",
       "      <th>...</th>\n",
       "      <td>...</td>\n",
       "    </tr>\n",
       "    <tr>\n",
       "      <th>46094</th>\n",
       "      <td>[H][C@](COC(=O)CCCCCCCCCCCCCCCCC(C)C)(COC(=O)C...</td>\n",
       "    </tr>\n",
       "    <tr>\n",
       "      <th>46095</th>\n",
       "      <td>[H][C@@](COC(=O)CCCCCCC)(COC(=O)CCCCCCCCCCCCCC...</td>\n",
       "    </tr>\n",
       "    <tr>\n",
       "      <th>46096</th>\n",
       "      <td>[H][C@](COC(=O)CCCCCCCCCCCCCCCCCCCC)(COC(=O)CC...</td>\n",
       "    </tr>\n",
       "    <tr>\n",
       "      <th>46097</th>\n",
       "      <td>[H][C@](COC(=O)CCCCCCCCCCCCCCCCCCCC)(COC(=O)CC...</td>\n",
       "    </tr>\n",
       "    <tr>\n",
       "      <th>46098</th>\n",
       "      <td>[H][C@](COC(=O)CCCCCCCCCCCCCCCCCC(C)C)(COC(=O)...</td>\n",
       "    </tr>\n",
       "    <tr>\n",
       "      <th>46099</th>\n",
       "      <td>[H][C@](COC(=O)CCCCCCCCCCCCCCCCCCCC)(COC(=O)CC...</td>\n",
       "    </tr>\n",
       "    <tr>\n",
       "      <th>46100</th>\n",
       "      <td>[H][C@@](COC(=O)CCCCCCCCC)(COC(=O)CCCCCCCCCCCC...</td>\n",
       "    </tr>\n",
       "    <tr>\n",
       "      <th>46101</th>\n",
       "      <td>[H][C@](COC(=O)CCCCCCCCCCCCCCCCCCCC)(COC(=O)CC...</td>\n",
       "    </tr>\n",
       "    <tr>\n",
       "      <th>46102</th>\n",
       "      <td>[H][C@](COC(=O)CCCCCCCCCCCCCCCCC(C)C)(COC(=O)C...</td>\n",
       "    </tr>\n",
       "    <tr>\n",
       "      <th>46103</th>\n",
       "      <td>[H][C@@](COC(=O)CCCCCCCCCCCCCCCCCCC)(COC(=O)CC...</td>\n",
       "    </tr>\n",
       "    <tr>\n",
       "      <th>46104</th>\n",
       "      <td>[H][C@](COC(=O)CCCCCCCCCCCCCCCCC(C)CC)(COC(=O)...</td>\n",
       "    </tr>\n",
       "    <tr>\n",
       "      <th>46105</th>\n",
       "      <td>[H][C@](COC(=O)CCCCCCCCCCCCCCCCCCC)(COC(=O)CCC...</td>\n",
       "    </tr>\n",
       "    <tr>\n",
       "      <th>46106</th>\n",
       "      <td>[H][C@@](COC(=O)CCCCCCCCCCCCCCCCCCCCC(C)CC)(CO...</td>\n",
       "    </tr>\n",
       "    <tr>\n",
       "      <th>46107</th>\n",
       "      <td>[H][C@@](COC(=O)CCCCCCCCCCCCCC)(COC(=O)CCCCCCC...</td>\n",
       "    </tr>\n",
       "    <tr>\n",
       "      <th>46108</th>\n",
       "      <td>[H][C@@](COC(=O)CCCCCCCCCCCCCCCCCCCC)(COC(=O)C...</td>\n",
       "    </tr>\n",
       "    <tr>\n",
       "      <th>46109</th>\n",
       "      <td>[H][C@](COC(=O)CCCCCCCCCCCCCCCCC(C)CC)(COC(=O)...</td>\n",
       "    </tr>\n",
       "    <tr>\n",
       "      <th>46110</th>\n",
       "      <td>[H][C@](COC(=O)CCCCCCCCCCCCCCCCCCCC)(COC(=O)CC...</td>\n",
       "    </tr>\n",
       "    <tr>\n",
       "      <th>46111</th>\n",
       "      <td>[H][C@@](COC(=O)CCCCCCCCCCCCCCCCC(C)C)(COC(=O)...</td>\n",
       "    </tr>\n",
       "    <tr>\n",
       "      <th>46112</th>\n",
       "      <td>[H][C@@](COC(=O)CCCCCCCCCCCC)(COC(=O)CCCCCCCCC...</td>\n",
       "    </tr>\n",
       "    <tr>\n",
       "      <th>46113</th>\n",
       "      <td>[H][C@](COC(=O)CCCCCCCCCCCCCCCCC(C)C)(COC(=O)C...</td>\n",
       "    </tr>\n",
       "    <tr>\n",
       "      <th>46114</th>\n",
       "      <td>[H][C@](COC(=O)CCCCCCCCCCCCCCCCCCCC)(COC(=O)CC...</td>\n",
       "    </tr>\n",
       "    <tr>\n",
       "      <th>46115</th>\n",
       "      <td>[H][C@](COC(=O)CCCCCCCCCCCCCCCCCCCC)(COC(=O)CC...</td>\n",
       "    </tr>\n",
       "    <tr>\n",
       "      <th>46116</th>\n",
       "      <td>[H][C@](COC(=O)CCCCCCCCCCCCCCCCCCCC)(COC(=O)CC...</td>\n",
       "    </tr>\n",
       "    <tr>\n",
       "      <th>46117</th>\n",
       "      <td>[H][C@](COC(=O)CCCCCCCCCCCCCCCCCC(C)C)(COC(=O)...</td>\n",
       "    </tr>\n",
       "    <tr>\n",
       "      <th>46118</th>\n",
       "      <td>[H][C@](COC(=O)CCCCCCCCCCCCCCCCC(C)CC)(COC(=O)...</td>\n",
       "    </tr>\n",
       "    <tr>\n",
       "      <th>46119</th>\n",
       "      <td>[H][C@@](COC(=O)CCCCCCCCCCCCCCCCCCC(C)C)(COC(=...</td>\n",
       "    </tr>\n",
       "    <tr>\n",
       "      <th>46120</th>\n",
       "      <td>[H][C@](COC(=O)CCCCCCCCCCCCCCCCCCCC)(COC(=O)CC...</td>\n",
       "    </tr>\n",
       "    <tr>\n",
       "      <th>46121</th>\n",
       "      <td>[H][C@](COC(=O)CCCCCCCCCCCCCCCCC(C)CC)(COC(=O)...</td>\n",
       "    </tr>\n",
       "    <tr>\n",
       "      <th>46122</th>\n",
       "      <td>[H][C@@](COC(=O)CCCCCCCCCCCCCCC)(COC(=O)CCCCCC...</td>\n",
       "    </tr>\n",
       "    <tr>\n",
       "      <th>46123</th>\n",
       "      <td>[H][C@](COC(=O)CCCCCCCCCCCCCCCCCC(C)C)(COC(=O)...</td>\n",
       "    </tr>\n",
       "  </tbody>\n",
       "</table>\n",
       "<p>46124 rows × 1 columns</p>\n",
       "</div>"
      ],
      "text/plain": [
       "                                               structure\n",
       "0                            CN1C=NC(C[C@H](N)C(O)=O)=C1\n",
       "1                                                  NCCCN\n",
       "2                                          CCC(=O)C(O)=O\n",
       "3                                           CCC(O)C(O)=O\n",
       "4      [H][C@@]12CCC(=O)[C@@]1(C)CC[C@]1([H])C3=C(CC[...\n",
       "5                                      C[C@@H](O)CC(O)=O\n",
       "6               OC[C@H]1O[C@H](C[C@@H]1O)N1C=CC(=O)NC1=O\n",
       "7           NC1=NC(=O)N(C=C1)[C@H]1C[C@H](O)[C@@H](CO)O1\n",
       "8      [H]C12CC[C@](O)(C(=O)CO)[C@@]1(C)CCC1([H])[C@@...\n",
       "9      [H][C@@]12CC[C@H](C(=O)CO)[C@@]1(C)CC[C@@]1([H...\n",
       "10                             CC1=NC=C(CO)C(C(O)=O)=C1O\n",
       "11                                      CC(C)C(=O)C(O)=O\n",
       "12                                 OC(=O)CC1=CC=C(O)C=C1\n",
       "13                     N[C@@H](CC1=CC=C(O)C(I)=C1)C(O)=O\n",
       "14                                 COC1=C(O)C=CC(CCN)=C1\n",
       "15                                     C[C@@H](CO)C(O)=O\n",
       "16     CCCCCCCCCCCCCCCCCCCCCCCC(=O)N[C@@H](CO[C@@H]1O...\n",
       "17                                       NC(=O)NCCC(O)=O\n",
       "18                    CC(O)C(O)C1CNC2=C(N1)C(=O)N=C(N)N2\n",
       "19      [H][C@]12CS[C@@H](CCCCC(O)=O)[C@@]1([H])NC(=O)N2\n",
       "20     [H][C@@]12CCC(=O)[C@@]1(C)CC[C@@]1([H])[C@@]2(...\n",
       "21     [H][C@@]12CC[C@H]([C@H](C)CCCC(C)C)[C@@]1(C)CC...\n",
       "22                     NCCC(=O)N[C@@H](CC1=CN=CN1)C(O)=O\n",
       "23                                    NC1=C2NC=NC2=NC=N1\n",
       "24     [H][C@@]12C[C@H](O)CCC1(C)C1C[C@H](O)C3(C)C(CC...\n",
       "25     C[C@]12CCC(=O)C=C1CCC1C3CC[C@H](C(=O)CO)[C@]3(...\n",
       "26                     CC(O)C(O)C1=NC2=C(NC1)N=C(N)NC2=O\n",
       "27                                             CCCC(O)=O\n",
       "28                                               CC(O)=O\n",
       "29                                 C[N+](C)(C)CC([O-])=O\n",
       "...                                                  ...\n",
       "46094  [H][C@](COC(=O)CCCCCCCCCCCCCCCCC(C)C)(COC(=O)C...\n",
       "46095  [H][C@@](COC(=O)CCCCCCC)(COC(=O)CCCCCCCCCCCCCC...\n",
       "46096  [H][C@](COC(=O)CCCCCCCCCCCCCCCCCCCC)(COC(=O)CC...\n",
       "46097  [H][C@](COC(=O)CCCCCCCCCCCCCCCCCCCC)(COC(=O)CC...\n",
       "46098  [H][C@](COC(=O)CCCCCCCCCCCCCCCCCC(C)C)(COC(=O)...\n",
       "46099  [H][C@](COC(=O)CCCCCCCCCCCCCCCCCCCC)(COC(=O)CC...\n",
       "46100  [H][C@@](COC(=O)CCCCCCCCC)(COC(=O)CCCCCCCCCCCC...\n",
       "46101  [H][C@](COC(=O)CCCCCCCCCCCCCCCCCCCC)(COC(=O)CC...\n",
       "46102  [H][C@](COC(=O)CCCCCCCCCCCCCCCCC(C)C)(COC(=O)C...\n",
       "46103  [H][C@@](COC(=O)CCCCCCCCCCCCCCCCCCC)(COC(=O)CC...\n",
       "46104  [H][C@](COC(=O)CCCCCCCCCCCCCCCCC(C)CC)(COC(=O)...\n",
       "46105  [H][C@](COC(=O)CCCCCCCCCCCCCCCCCCC)(COC(=O)CCC...\n",
       "46106  [H][C@@](COC(=O)CCCCCCCCCCCCCCCCCCCCC(C)CC)(CO...\n",
       "46107  [H][C@@](COC(=O)CCCCCCCCCCCCCC)(COC(=O)CCCCCCC...\n",
       "46108  [H][C@@](COC(=O)CCCCCCCCCCCCCCCCCCCC)(COC(=O)C...\n",
       "46109  [H][C@](COC(=O)CCCCCCCCCCCCCCCCC(C)CC)(COC(=O)...\n",
       "46110  [H][C@](COC(=O)CCCCCCCCCCCCCCCCCCCC)(COC(=O)CC...\n",
       "46111  [H][C@@](COC(=O)CCCCCCCCCCCCCCCCC(C)C)(COC(=O)...\n",
       "46112  [H][C@@](COC(=O)CCCCCCCCCCCC)(COC(=O)CCCCCCCCC...\n",
       "46113  [H][C@](COC(=O)CCCCCCCCCCCCCCCCC(C)C)(COC(=O)C...\n",
       "46114  [H][C@](COC(=O)CCCCCCCCCCCCCCCCCCCC)(COC(=O)CC...\n",
       "46115  [H][C@](COC(=O)CCCCCCCCCCCCCCCCCCCC)(COC(=O)CC...\n",
       "46116  [H][C@](COC(=O)CCCCCCCCCCCCCCCCCCCC)(COC(=O)CC...\n",
       "46117  [H][C@](COC(=O)CCCCCCCCCCCCCCCCCC(C)C)(COC(=O)...\n",
       "46118  [H][C@](COC(=O)CCCCCCCCCCCCCCCCC(C)CC)(COC(=O)...\n",
       "46119  [H][C@@](COC(=O)CCCCCCCCCCCCCCCCCCC(C)C)(COC(=...\n",
       "46120  [H][C@](COC(=O)CCCCCCCCCCCCCCCCCCCC)(COC(=O)CC...\n",
       "46121  [H][C@](COC(=O)CCCCCCCCCCCCCCCCC(C)CC)(COC(=O)...\n",
       "46122  [H][C@@](COC(=O)CCCCCCCCCCCCCCC)(COC(=O)CCCCCC...\n",
       "46123  [H][C@](COC(=O)CCCCCCCCCCCCCCCCCC(C)C)(COC(=O)...\n",
       "\n",
       "[46124 rows x 1 columns]"
      ]
     },
     "execution_count": 9,
     "metadata": {},
     "output_type": "execute_result"
    }
   ],
   "source": [
    "df"
   ]
  },
  {
   "cell_type": "markdown",
   "metadata": {},
   "source": [
    "Find rows containing SMILES < 121 chars"
   ]
  },
  {
   "cell_type": "code",
   "execution_count": 10,
   "metadata": {
    "collapsed": false
   },
   "outputs": [
    {
     "name": "stdout",
     "output_type": "stream",
     "text": [
      "46124\n",
      "46124\n"
     ]
    }
   ],
   "source": [
    "keys = df[smiles_column].map(len) < 121\n",
    "print len(keys)\n",
    "print np.sum(keys.values)"
   ]
  },
  {
   "cell_type": "markdown",
   "metadata": {},
   "source": [
    "If too many rows (>MAX_NUM_ROWS), then sample up to MAX_NUM_ROWS rows)"
   ]
  },
  {
   "cell_type": "code",
   "execution_count": 11,
   "metadata": {
    "collapsed": false
   },
   "outputs": [],
   "source": [
    "if length <= len(keys):\n",
    "    df = df[keys].sample(n = args.length)\n",
    "else:\n",
    "    df = df[keys]"
   ]
  },
  {
   "cell_type": "markdown",
   "metadata": {},
   "source": [
    "Tokenize each SMILE string. Pad to 120 chars."
   ]
  },
  {
   "cell_type": "code",
   "execution_count": 12,
   "metadata": {
    "collapsed": true
   },
   "outputs": [],
   "source": [
    "structures = df[smiles_column].map(lambda x: list(x.ljust(120)))"
   ]
  },
  {
   "cell_type": "code",
   "execution_count": 13,
   "metadata": {
    "collapsed": false
   },
   "outputs": [
    {
     "data": {
      "text/plain": [
       "0        [C, N, 1, C, =, N, C, (, C, [, C, @, H, ], (, ...\n",
       "1        [N, C, C, C, N,  ,  ,  ,  ,  ,  ,  ,  ,  ,  , ...\n",
       "2        [C, C, C, (, =, O, ), C, (, O, ), =, O,  ,  , ...\n",
       "3        [C, C, C, (, O, ), C, (, O, ), =, O,  ,  ,  , ...\n",
       "4        [[, H, ], [, C, @, @, ], 1, 2, C, C, C, (, =, ...\n",
       "5        [C, [, C, @, @, H, ], (, O, ), C, C, (, O, ), ...\n",
       "6        [O, C, [, C, @, H, ], 1, O, [, C, @, H, ], (, ...\n",
       "7        [N, C, 1, =, N, C, (, =, O, ), N, (, C, =, C, ...\n",
       "8        [[, H, ], C, 1, 2, C, C, [, C, @, ], (, O, ), ...\n",
       "9        [[, H, ], [, C, @, @, ], 1, 2, C, C, [, C, @, ...\n",
       "10       [C, C, 1, =, N, C, =, C, (, C, O, ), C, (, C, ...\n",
       "11       [C, C, (, C, ), C, (, =, O, ), C, (, O, ), =, ...\n",
       "12       [O, C, (, =, O, ), C, C, 1, =, C, C, =, C, (, ...\n",
       "13       [N, [, C, @, @, H, ], (, C, C, 1, =, C, C, =, ...\n",
       "14       [C, O, C, 1, =, C, (, O, ), C, =, C, C, (, C, ...\n",
       "15       [C, [, C, @, @, H, ], (, C, O, ), C, (, O, ), ...\n",
       "16       [C, C, C, C, C, C, C, C, C, C, C, C, C, C, C, ...\n",
       "17       [N, C, (, =, O, ), N, C, C, C, (, O, ), =, O, ...\n",
       "18       [C, C, (, O, ), C, (, O, ), C, 1, C, N, C, 2, ...\n",
       "19       [[, H, ], [, C, @, ], 1, 2, C, S, [, C, @, @, ...\n",
       "20       [[, H, ], [, C, @, @, ], 1, 2, C, C, C, (, =, ...\n",
       "21       [[, H, ], [, C, @, @, ], 1, 2, C, C, [, C, @, ...\n",
       "22       [N, C, C, C, (, =, O, ), N, [, C, @, @, H, ], ...\n",
       "23       [N, C, 1, =, C, 2, N, C, =, N, C, 2, =, N, C, ...\n",
       "24       [[, H, ], [, C, @, @, ], 1, 2, C, [, C, @, H, ...\n",
       "25       [C, [, C, @, ], 1, 2, C, C, C, (, =, O, ), C, ...\n",
       "26       [C, C, (, O, ), C, (, O, ), C, 1, =, N, C, 2, ...\n",
       "27       [C, C, C, C, (, O, ), =, O,  ,  ,  ,  ,  ,  , ...\n",
       "28       [C, C, (, O, ), =, O,  ,  ,  ,  ,  ,  ,  ,  , ...\n",
       "29       [C, [, N, +, ], (, C, ), (, C, ), C, C, (, [, ...\n",
       "                               ...                        \n",
       "46094    [[, H, ], [, C, @, ], (, C, O, C, (, =, O, ), ...\n",
       "46095    [[, H, ], [, C, @, @, ], (, C, O, C, (, =, O, ...\n",
       "46096    [[, H, ], [, C, @, ], (, C, O, C, (, =, O, ), ...\n",
       "46097    [[, H, ], [, C, @, ], (, C, O, C, (, =, O, ), ...\n",
       "46098    [[, H, ], [, C, @, ], (, C, O, C, (, =, O, ), ...\n",
       "46099    [[, H, ], [, C, @, ], (, C, O, C, (, =, O, ), ...\n",
       "46100    [[, H, ], [, C, @, @, ], (, C, O, C, (, =, O, ...\n",
       "46101    [[, H, ], [, C, @, ], (, C, O, C, (, =, O, ), ...\n",
       "46102    [[, H, ], [, C, @, ], (, C, O, C, (, =, O, ), ...\n",
       "46103    [[, H, ], [, C, @, @, ], (, C, O, C, (, =, O, ...\n",
       "46104    [[, H, ], [, C, @, ], (, C, O, C, (, =, O, ), ...\n",
       "46105    [[, H, ], [, C, @, ], (, C, O, C, (, =, O, ), ...\n",
       "46106    [[, H, ], [, C, @, @, ], (, C, O, C, (, =, O, ...\n",
       "46107    [[, H, ], [, C, @, @, ], (, C, O, C, (, =, O, ...\n",
       "46108    [[, H, ], [, C, @, @, ], (, C, O, C, (, =, O, ...\n",
       "46109    [[, H, ], [, C, @, ], (, C, O, C, (, =, O, ), ...\n",
       "46110    [[, H, ], [, C, @, ], (, C, O, C, (, =, O, ), ...\n",
       "46111    [[, H, ], [, C, @, @, ], (, C, O, C, (, =, O, ...\n",
       "46112    [[, H, ], [, C, @, @, ], (, C, O, C, (, =, O, ...\n",
       "46113    [[, H, ], [, C, @, ], (, C, O, C, (, =, O, ), ...\n",
       "46114    [[, H, ], [, C, @, ], (, C, O, C, (, =, O, ), ...\n",
       "46115    [[, H, ], [, C, @, ], (, C, O, C, (, =, O, ), ...\n",
       "46116    [[, H, ], [, C, @, ], (, C, O, C, (, =, O, ), ...\n",
       "46117    [[, H, ], [, C, @, ], (, C, O, C, (, =, O, ), ...\n",
       "46118    [[, H, ], [, C, @, ], (, C, O, C, (, =, O, ), ...\n",
       "46119    [[, H, ], [, C, @, @, ], (, C, O, C, (, =, O, ...\n",
       "46120    [[, H, ], [, C, @, ], (, C, O, C, (, =, O, ), ...\n",
       "46121    [[, H, ], [, C, @, ], (, C, O, C, (, =, O, ), ...\n",
       "46122    [[, H, ], [, C, @, @, ], (, C, O, C, (, =, O, ...\n",
       "46123    [[, H, ], [, C, @, ], (, C, O, C, (, =, O, ), ...\n",
       "Name: structure, dtype: object"
      ]
     },
     "execution_count": 13,
     "metadata": {},
     "output_type": "execute_result"
    }
   ],
   "source": [
    "structures"
   ]
  },
  {
   "cell_type": "code",
   "execution_count": 14,
   "metadata": {
    "collapsed": false
   },
   "outputs": [
    {
     "data": {
      "text/plain": [
       "array(['C', 'N', '1', 'C', '=', 'N', 'C', '(', 'C', '[', 'C', '@', 'H',\n",
       "       ']', '(', 'N', ')', 'C', '(', 'O', ')', '=', 'O', ')', '=', 'C',\n",
       "       '1', ' ', ' ', ' ', ' ', ' ', ' ', ' ', ' ', ' ', ' ', ' ', ' ',\n",
       "       ' ', ' ', ' ', ' ', ' ', ' ', ' ', ' ', ' ', ' ', ' ', ' ', ' ',\n",
       "       ' ', ' ', ' ', ' ', ' ', ' ', ' ', ' ', ' ', ' ', ' ', ' ', ' ',\n",
       "       ' ', ' ', ' ', ' ', ' ', ' ', ' ', ' ', ' ', ' ', ' ', ' ', ' ',\n",
       "       ' ', ' ', ' ', ' ', ' ', ' ', ' ', ' ', ' ', ' ', ' ', ' ', ' ',\n",
       "       ' ', ' ', ' ', ' ', ' ', ' ', ' ', ' ', ' ', ' ', ' ', ' ', ' ',\n",
       "       ' ', ' ', ' ', ' ', ' ', ' ', ' ', ' ', ' ', ' ', ' ', ' ', ' ',\n",
       "       ' ', ' ', ' '], \n",
       "      dtype='|S1')"
      ]
     },
     "execution_count": 14,
     "metadata": {},
     "output_type": "execute_result"
    }
   ],
   "source": [
    "np.array(structures[0])"
   ]
  },
  {
   "cell_type": "markdown",
   "metadata": {},
   "source": [
    "Split into training-testing sets"
   ]
  },
  {
   "cell_type": "code",
   "execution_count": 15,
   "metadata": {
    "collapsed": true
   },
   "outputs": [],
   "source": [
    "train_idx, test_idx = map(np.array, train_test_split(structures.index, test_size = 0.20))"
   ]
  },
  {
   "cell_type": "code",
   "execution_count": 16,
   "metadata": {
    "collapsed": false,
    "scrolled": true
   },
   "outputs": [
    {
     "name": "stdout",
     "output_type": "stream",
     "text": [
      "36899\n",
      "9225\n"
     ]
    }
   ],
   "source": [
    "print len(train_idx)\n",
    "print len(test_idx)"
   ]
  },
  {
   "cell_type": "markdown",
   "metadata": {},
   "source": [
    "Find the unique tokens"
   ]
  },
  {
   "cell_type": "code",
   "execution_count": 17,
   "metadata": {
    "collapsed": false
   },
   "outputs": [
    {
     "name": "stdout",
     "output_type": "stream",
     "text": [
      "[' ', '(', '.', '0', '2', '4', '6', '8', '@', 'B', 'F', 'H', 'L', 'N', 'P', 'R', 'T', 'V', 'Z', '\\\\', 'b', 'd', 'f', 'h', 'l', 'n', 'r', 't', '#', '%', ')', '+', '-', '/', '1', '3', '5', '7', '9', '=', 'A', 'C', 'G', 'I', 'K', 'M', 'O', 'S', 'W', 'Y', '[', ']', 'a', 'e', 'g', 'i', 'm', 'o', 's', 'u']\n"
     ]
    }
   ],
   "source": [
    "charset = list(reduce(lambda x, y: set(y) | x, structures, set()))\n",
    "print charset"
   ]
  },
  {
   "cell_type": "markdown",
   "metadata": {},
   "source": [
    "Turn into one-hot encoded vectors. Save the output into another hdf5 file."
   ]
  },
  {
   "cell_type": "code",
   "execution_count": 18,
   "metadata": {
    "collapsed": true
   },
   "outputs": [],
   "source": [
    "def chunk_iterator(dataset, chunk_size=1000):\n",
    "    chunk_indices = np.array_split(np.arange(len(dataset)),\n",
    "                                    len(dataset)/chunk_size)\n",
    "    for chunk_ixs in chunk_indices:\n",
    "        chunk = dataset[chunk_ixs]\n",
    "        yield (chunk_ixs, chunk)\n",
    "    raise StopIteration"
   ]
  },
  {
   "cell_type": "code",
   "execution_count": 19,
   "metadata": {
    "collapsed": true
   },
   "outputs": [],
   "source": [
    "def create_chunk_dataset(h5file, dataset_name, dataset, dataset_shape,\n",
    "                         chunk_size=1000, apply_fn=None):\n",
    "    new_data = h5file.create_dataset(dataset_name, dataset_shape,\n",
    "                                     chunks=tuple([chunk_size]+list(dataset_shape[1:])))\n",
    "    for (chunk_ixs, chunk) in chunk_iterator(dataset):\n",
    "        if not apply_fn:\n",
    "            new_data[chunk_ixs, ...] = chunk\n",
    "        else:\n",
    "            new_data[chunk_ixs, ...] = apply_fn(chunk)"
   ]
  },
  {
   "cell_type": "code",
   "execution_count": 20,
   "metadata": {
    "collapsed": true
   },
   "outputs": [],
   "source": [
    "one_hot_encoded_fn = lambda row: map(lambda x: one_hot_array(x, len(charset)),\n",
    "                                            one_hot_index(row, charset))"
   ]
  },
  {
   "cell_type": "code",
   "execution_count": 21,
   "metadata": {
    "collapsed": false
   },
   "outputs": [],
   "source": [
    "h5f = h5py.File(outfile, 'w')\n",
    "h5f.create_dataset('charset', data = charset)\n",
    "\n",
    "create_chunk_dataset(h5f, 'data_train', train_idx,\n",
    "                     (len(train_idx), 120, len(charset)),\n",
    "                     apply_fn=lambda ch: np.array(map(one_hot_encoded_fn,\n",
    "                                                      structures[ch])))\n",
    "create_chunk_dataset(h5f, 'data_test', test_idx,\n",
    "                     (len(test_idx), 120, len(charset)),\n",
    "                     apply_fn=lambda ch: np.array(map(one_hot_encoded_fn,\n",
    "                                                      structures[ch])))"
   ]
  },
  {
   "cell_type": "code",
   "execution_count": 22,
   "metadata": {
    "collapsed": true
   },
   "outputs": [],
   "source": [
    "h5f.close()"
   ]
  },
  {
   "cell_type": "code",
   "execution_count": null,
   "metadata": {
    "collapsed": true
   },
   "outputs": [],
   "source": []
  }
 ],
 "metadata": {
  "kernelspec": {
   "display_name": "Python 2",
   "language": "python",
   "name": "python2"
  },
  "language_info": {
   "codemirror_mode": {
    "name": "ipython",
    "version": 2
   },
   "file_extension": ".py",
   "mimetype": "text/x-python",
   "name": "python",
   "nbconvert_exporter": "python",
   "pygments_lexer": "ipython2",
   "version": "2.7.13"
  }
 },
 "nbformat": 4,
 "nbformat_minor": 2
}
